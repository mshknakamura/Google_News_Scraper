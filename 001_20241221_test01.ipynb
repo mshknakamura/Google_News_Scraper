{
  "nbformat": 4,
  "nbformat_minor": 0,
  "metadata": {
    "colab": {
      "provenance": [],
      "include_colab_link": true
    },
    "kernelspec": {
      "name": "ir",
      "display_name": "R"
    },
    "language_info": {
      "name": "python"
    }
  },
  "cells": [
    {
      "cell_type": "markdown",
      "metadata": {
        "id": "view-in-github",
        "colab_type": "text"
      },
      "source": [
        "<a href=\"https://colab.research.google.com/github/mshknakamura/Google_News_Scraper/blob/main/001_20241221_test01.ipynb\" target=\"_parent\"><img src=\"https://colab.research.google.com/assets/colab-badge.svg\" alt=\"Open In Colab\"/></a>"
      ]
    },
    {
      "cell_type": "code",
      "execution_count": null,
      "metadata": {
        "id": "No6VH7o7Srxf",
        "colab": {
          "base_uri": "https://localhost:8080/"
        },
        "outputId": "f4be4cad-a86c-4dbe-9f19-49b32a2dc9a7"
      },
      "outputs": [
        {
          "output_type": "stream",
          "name": "stderr",
          "text": [
            "Installing package into ‘/usr/local/lib/R/site-library’\n",
            "(as ‘lib’ is unspecified)\n",
            "\n",
            "also installing the dependencies ‘numDeriv’, ‘lazyeval’, ‘abind’, ‘tensorA’, ‘distributional’, ‘crosstalk’, ‘zoo’, ‘plyr’, ‘igraph’, ‘checkmate’, ‘matrixStats’, ‘posterior’, ‘colourpicker’, ‘DT’, ‘dygraphs’, ‘gtools’, ‘markdown’, ‘reshape2’, ‘shinyjs’, ‘shinythemes’, ‘threejs’, ‘xts’, ‘ggridges’, ‘StanHeaders’, ‘inline’, ‘gridExtra’, ‘RcppParallel’, ‘loo’, ‘QuickJSR’, ‘RcppEigen’, ‘BH’, ‘shinystan’, ‘bayesplot’, ‘rstantools’, ‘coda’, ‘V8’\n",
            "\n",
            "\n"
          ]
        }
      ],
      "source": [
        "install.packages('rstan', dependencies=TRUE)"
      ]
    },
    {
      "cell_type": "markdown",
      "source": [
        "$ \\frac{1}{2} $\n"
      ],
      "metadata": {
        "id": "bpt_3gYHUhIR"
      }
    },
    {
      "cell_type": "markdown",
      "source": [],
      "metadata": {
        "id": "dLWs2EK_Unt0"
      }
    }
  ]
}